{
 "cells": [
  {
   "cell_type": "markdown",
   "metadata": {},
   "source": [
    "# Using the Random Forest Model to Predict Forest Cover Type\n",
    "In the following code a ranom forest model is created in oder to predict which trees grow in Colorado"
   ]
  },
  {
   "cell_type": "code",
   "execution_count": 3,
   "metadata": {},
   "outputs": [
    {
     "data": {
      "text/html": [
       "<div>\n",
       "<style scoped>\n",
       "    .dataframe tbody tr th:only-of-type {\n",
       "        vertical-align: middle;\n",
       "    }\n",
       "\n",
       "    .dataframe tbody tr th {\n",
       "        vertical-align: top;\n",
       "    }\n",
       "\n",
       "    .dataframe thead th {\n",
       "        text-align: right;\n",
       "    }\n",
       "</style>\n",
       "<table border=\"1\" class=\"dataframe\">\n",
       "  <thead>\n",
       "    <tr style=\"text-align: right;\">\n",
       "      <th></th>\n",
       "      <th>Elevation</th>\n",
       "      <th>Aspect</th>\n",
       "      <th>Slope</th>\n",
       "      <th>Horizontal_Distance_To_Hydrology</th>\n",
       "      <th>Vertical_Distance_To_Hydrology</th>\n",
       "      <th>Horizontal_Distance_To_Roadways</th>\n",
       "      <th>Hillshade_9am</th>\n",
       "      <th>Hillshade_Noon</th>\n",
       "      <th>Hillshade_3pm</th>\n",
       "      <th>Horizontal_Distance_To_Fire_Points</th>\n",
       "      <th>...</th>\n",
       "      <th>7756</th>\n",
       "      <th>7757</th>\n",
       "      <th>7790</th>\n",
       "      <th>8703</th>\n",
       "      <th>8707</th>\n",
       "      <th>8708</th>\n",
       "      <th>8771</th>\n",
       "      <th>8772</th>\n",
       "      <th>8776</th>\n",
       "      <th>Forest_Cover_Type</th>\n",
       "    </tr>\n",
       "  </thead>\n",
       "  <tbody>\n",
       "    <tr>\n",
       "      <td>0</td>\n",
       "      <td>2596</td>\n",
       "      <td>51</td>\n",
       "      <td>3</td>\n",
       "      <td>258</td>\n",
       "      <td>0</td>\n",
       "      <td>510</td>\n",
       "      <td>221</td>\n",
       "      <td>232</td>\n",
       "      <td>148</td>\n",
       "      <td>6279</td>\n",
       "      <td>...</td>\n",
       "      <td>0</td>\n",
       "      <td>0</td>\n",
       "      <td>0</td>\n",
       "      <td>0</td>\n",
       "      <td>0</td>\n",
       "      <td>0</td>\n",
       "      <td>0</td>\n",
       "      <td>0</td>\n",
       "      <td>0</td>\n",
       "      <td>5</td>\n",
       "    </tr>\n",
       "    <tr>\n",
       "      <td>1</td>\n",
       "      <td>2590</td>\n",
       "      <td>56</td>\n",
       "      <td>2</td>\n",
       "      <td>212</td>\n",
       "      <td>-6</td>\n",
       "      <td>390</td>\n",
       "      <td>220</td>\n",
       "      <td>235</td>\n",
       "      <td>151</td>\n",
       "      <td>6225</td>\n",
       "      <td>...</td>\n",
       "      <td>0</td>\n",
       "      <td>0</td>\n",
       "      <td>0</td>\n",
       "      <td>0</td>\n",
       "      <td>0</td>\n",
       "      <td>0</td>\n",
       "      <td>0</td>\n",
       "      <td>0</td>\n",
       "      <td>0</td>\n",
       "      <td>5</td>\n",
       "    </tr>\n",
       "    <tr>\n",
       "      <td>2</td>\n",
       "      <td>2804</td>\n",
       "      <td>139</td>\n",
       "      <td>9</td>\n",
       "      <td>268</td>\n",
       "      <td>65</td>\n",
       "      <td>3180</td>\n",
       "      <td>234</td>\n",
       "      <td>238</td>\n",
       "      <td>135</td>\n",
       "      <td>6121</td>\n",
       "      <td>...</td>\n",
       "      <td>0</td>\n",
       "      <td>0</td>\n",
       "      <td>0</td>\n",
       "      <td>0</td>\n",
       "      <td>0</td>\n",
       "      <td>0</td>\n",
       "      <td>0</td>\n",
       "      <td>0</td>\n",
       "      <td>0</td>\n",
       "      <td>2</td>\n",
       "    </tr>\n",
       "    <tr>\n",
       "      <td>3</td>\n",
       "      <td>2785</td>\n",
       "      <td>155</td>\n",
       "      <td>18</td>\n",
       "      <td>242</td>\n",
       "      <td>118</td>\n",
       "      <td>3090</td>\n",
       "      <td>238</td>\n",
       "      <td>238</td>\n",
       "      <td>122</td>\n",
       "      <td>6211</td>\n",
       "      <td>...</td>\n",
       "      <td>0</td>\n",
       "      <td>0</td>\n",
       "      <td>0</td>\n",
       "      <td>0</td>\n",
       "      <td>0</td>\n",
       "      <td>0</td>\n",
       "      <td>0</td>\n",
       "      <td>0</td>\n",
       "      <td>0</td>\n",
       "      <td>2</td>\n",
       "    </tr>\n",
       "    <tr>\n",
       "      <td>4</td>\n",
       "      <td>2595</td>\n",
       "      <td>45</td>\n",
       "      <td>2</td>\n",
       "      <td>153</td>\n",
       "      <td>-1</td>\n",
       "      <td>391</td>\n",
       "      <td>220</td>\n",
       "      <td>234</td>\n",
       "      <td>150</td>\n",
       "      <td>6172</td>\n",
       "      <td>...</td>\n",
       "      <td>0</td>\n",
       "      <td>0</td>\n",
       "      <td>0</td>\n",
       "      <td>0</td>\n",
       "      <td>0</td>\n",
       "      <td>0</td>\n",
       "      <td>0</td>\n",
       "      <td>0</td>\n",
       "      <td>0</td>\n",
       "      <td>5</td>\n",
       "    </tr>\n",
       "  </tbody>\n",
       "</table>\n",
       "<p>5 rows × 55 columns</p>\n",
       "</div>"
      ],
      "text/plain": [
       "   Elevation  Aspect  Slope  Horizontal_Distance_To_Hydrology  \\\n",
       "0       2596      51      3                               258   \n",
       "1       2590      56      2                               212   \n",
       "2       2804     139      9                               268   \n",
       "3       2785     155     18                               242   \n",
       "4       2595      45      2                               153   \n",
       "\n",
       "   Vertical_Distance_To_Hydrology  Horizontal_Distance_To_Roadways  \\\n",
       "0                               0                              510   \n",
       "1                              -6                              390   \n",
       "2                              65                             3180   \n",
       "3                             118                             3090   \n",
       "4                              -1                              391   \n",
       "\n",
       "   Hillshade_9am  Hillshade_Noon  Hillshade_3pm  \\\n",
       "0            221             232            148   \n",
       "1            220             235            151   \n",
       "2            234             238            135   \n",
       "3            238             238            122   \n",
       "4            220             234            150   \n",
       "\n",
       "   Horizontal_Distance_To_Fire_Points  ...  7756  7757  7790  8703  8707  \\\n",
       "0                                6279  ...     0     0     0     0     0   \n",
       "1                                6225  ...     0     0     0     0     0   \n",
       "2                                6121  ...     0     0     0     0     0   \n",
       "3                                6211  ...     0     0     0     0     0   \n",
       "4                                6172  ...     0     0     0     0     0   \n",
       "\n",
       "   8708  8771  8772  8776  Forest_Cover_Type  \n",
       "0     0     0     0     0                  5  \n",
       "1     0     0     0     0                  5  \n",
       "2     0     0     0     0                  2  \n",
       "3     0     0     0     0                  2  \n",
       "4     0     0     0     0                  5  \n",
       "\n",
       "[5 rows x 55 columns]"
      ]
     },
     "execution_count": 3,
     "metadata": {},
     "output_type": "execute_result"
    }
   ],
   "source": [
    "#Importing the packages we will use\n",
    "import pandas as pd\n",
    "import matplotlib.pyplot as plt\n",
    "import numpy as np\n",
    "import scipy.stats as stats\n",
    "from sklearn.model_selection import train_test_split\n",
    "from sklearn.ensemble import RandomForestClassifier\n",
    "\n",
    "#Reading in the data then assigning labels to the columns\n",
    "df= pd.read_table('covtype.data',sep=',',header=None)\n",
    "col_names_org = ['Elevation','Aspect','Slope','Horizontal_Distance_To_Hydrology','Vertical_Distance_To_Hydrology','Horizontal_Distance_To_Roadways','Hillshade_9am','Hillshade_Noon','Hillshade_3pm','Horizontal_Distance_To_Fire_Points','Rawah Wilderness Area','Neota Wilderness Area','Comanche Peak Wilderness Area','Cache la Poudre Wilderness Area']\n",
    "soil_variables = ['2702', '2703', '2704', '2705', '2706', '2717', '3501', '3502', '4201', '4703', '4704', '4744', '4758', '5101', '5151', '6101', '6102', '6731', '7101', '7102', '7103', '7201', '7202', '7700', '7701', '7702', '7709', '7710', '7745', '7746', '7755', '7756', '7757', '7790', '8703', '8707', '8708', '8771', '8772', '8776']\n",
    "col_names=col_names_org + soil_variables\n",
    "col_names.append('Forest_Cover_Type')\n",
    "df.columns = col_names\n",
    "df.head()"
   ]
  },
  {
   "cell_type": "code",
   "execution_count": 4,
   "metadata": {},
   "outputs": [
    {
     "name": "stdout",
     "output_type": "stream",
     "text": [
      "['Elevation', 'Aspect', 'Slope', 'Horizontal_Distance_To_Hydrology', 'Vertical_Distance_To_Hydrology', 'Horizontal_Distance_To_Roadways', 'Hillshade_9am', 'Hillshade_Noon', 'Hillshade_3pm', 'Horizontal_Distance_To_Fire_Points', 'Rawah Wilderness Area', 'Neota Wilderness Area', 'Comanche Peak Wilderness Area', 'Cache la Poudre Wilderness Area', '2702', '2703', '2704', '2705', '2706', '2717', '3501', '3502', '4201', '4703', '4704', '4744', '4758', '5101', '5151', '6101', '6102', '6731', '7101', '7102', '7103', '7201', '7202', '7700', '7701', '7702', '7709', '7710', '7745', '7746', '7755', '7756', '7757', '7790', '8703', '8707', '8708', '8771', '8772', '8776']\n"
     ]
    }
   ],
   "source": [
    "# convert data to arrays\n",
    "# Labels are the values we want to predict\n",
    "labels = np.array(df['Forest_Cover_Type'])\n",
    "# Remove the labels from the features\n",
    "features= df.drop('Forest_Cover_Type', axis = 1)\n",
    "# removing what we want to predict from the data frame\n",
    "feature_list = list(features.columns)\n",
    "# Convert to numpy array\n",
    "features = np.array(features)"
   ]
  },
  {
   "cell_type": "code",
   "execution_count": 11,
   "metadata": {},
   "outputs": [
    {
     "name": "stdout",
     "output_type": "stream",
     "text": [
      "Training Features Shape: (522910, 54)\n",
      "Training Labels Shape: (522910,)\n",
      "Testing Features Shape: (58102, 54)\n",
      "Testing Labels Shape: (58102,)\n"
     ]
    },
    {
     "name": "stderr",
     "output_type": "stream",
     "text": [
      "IOPub data rate exceeded.\n",
      "The notebook server will temporarily stop sending output\n",
      "to the client in order to avoid crashing it.\n",
      "To change this limit, set the config variable\n",
      "`--NotebookApp.iopub_data_rate_limit`.\n",
      "\n",
      "Current values:\n",
      "NotebookApp.iopub_data_rate_limit=1000000.0 (bytes/sec)\n",
      "NotebookApp.rate_limit_window=3.0 (secs)\n",
      "\n"
     ]
    }
   ],
   "source": [
    "# Split the data into training and testing sets\n",
    "train_features, test_features, train_labels, test_labels = train_test_split(features, labels, test_size = 0.10, random_state = 42)\n",
    "# print the shapes to make sure everything came out as we expect\n",
    "print('Training Features Shape:', train_features.shape)\n",
    "print('Training Labels Shape:', train_labels.shape)\n",
    "print('Testing Features Shape:', test_features.shape)\n",
    "print('Testing Labels Shape:', test_labels.shape)"
   ]
  },
  {
   "cell_type": "code",
   "execution_count": 12,
   "metadata": {},
   "outputs": [
    {
     "name": "stdout",
     "output_type": "stream",
     "text": [
      "done\n"
     ]
    }
   ],
   "source": [
    "# Import the random forest clssifier model\n",
    "rf = RandomForestClassifier(n_estimators = 30, random_state = 42)\n",
    "# Train the model on training data\n",
    "rf.fit(train_features, train_labels);"
   ]
  },
  {
   "cell_type": "code",
   "execution_count": 14,
   "metadata": {},
   "outputs": [
    {
     "name": "stdout",
     "output_type": "stream",
     "text": [
      "0.9535127878558397\n"
     ]
    }
   ],
   "source": [
    "# Use the forest's predict method on the test data\n",
    "predictions = rf.predict(test_features)\n",
    "# Calculate the absolute errors\n",
    "accuracy = predictions == test_labels\n",
    "print(accuracy.sum()/len(test_labels))"
   ]
  },
  {
   "cell_type": "markdown",
   "metadata": {},
   "source": [
    "The model preformed really well right out of the box. 95% accuracy is quite good for an inital model and could be used with high confidence to predict the forest cover type. However, there could be some of the data that we used that may not be helping the models accuracy. The following code will calculate the importance of each variable and tell us which ones we could drop to potentally increase the accuray."
   ]
  },
  {
   "cell_type": "code",
   "execution_count": 15,
   "metadata": {},
   "outputs": [
    {
     "name": "stdout",
     "output_type": "stream",
     "text": [
      "(0.24528430960963427, 'Elevation')\n",
      "(0.11864084317031795, 'Horizontal_Distance_To_Roadways')\n",
      "(0.11227715345970521, 'Horizontal_Distance_To_Fire_Points')\n",
      "(0.06090127703270101, 'Horizontal_Distance_To_Hydrology')\n",
      "(0.05758154562021629, 'Vertical_Distance_To_Hydrology')\n",
      "(0.04716475941340151, 'Aspect')\n",
      "(0.042430155613605414, 'Hillshade_Noon')\n",
      "(0.04049937649630166, 'Hillshade_3pm')\n",
      "(0.04023035058406601, 'Hillshade_9am')\n",
      "(0.03197448109837702, 'Slope')\n",
      "(0.024747860190542113, 'Cache la Poudre Wilderness Area')\n",
      "(0.0165542000380787, '7201')\n",
      "(0.013798712835081266, '4703')\n",
      "(0.012915033457364547, 'Comanche Peak Wilderness Area')\n",
      "(0.012232437465722076, '2705')\n",
      "(0.011607102660607275, '8771')\n",
      "(0.011251540406921633, '4744')\n",
      "(0.010633029040392402, '7202')\n",
      "(0.010290138451569847, '8772')\n",
      "(0.010097204937322114, 'Rawah Wilderness Area')\n",
      "(0.009510668644691923, '2703')\n",
      "(0.005616947638594537, 'Neota Wilderness Area')\n",
      "(0.005187025557999961, '7745')\n",
      "(0.005068120712965383, '8776')\n",
      "(0.0049857196479325, '7756')\n",
      "(0.004076547284510886, '7757')\n",
      "(0.004055501284178176, '7700')\n",
      "(0.003727061937855907, '7755')\n",
      "(0.003349029977594719, '4758')\n",
      "(0.003017018987378128, '7746')\n",
      "(0.0027715231638019856, '2717')\n",
      "(0.002552459759568324, '4704')\n",
      "(0.0022518305124768013, '2704')\n",
      "(0.0019898053762540053, '7102')\n",
      "(0.0015641578950611737, '8703')\n",
      "(0.0015416317475929699, '6102')\n",
      "(0.0009741874707917215, '7101')\n",
      "(0.0008950829336295499, '7103')\n",
      "(0.0007651544212555702, '2702')\n",
      "(0.0007612708873591044, '6101')\n",
      "(0.0006701352610871662, '7709')\n",
      "(0.0005887802053039425, '8708')\n",
      "(0.0005798948598955553, '2706')\n",
      "(0.0005669771650050497, '7790')\n",
      "(0.0005006316255332364, '7702')\n",
      "(0.0003602515499941455, '5101')\n",
      "(0.0003454799944006381, '6731')\n",
      "(0.0002064231640850758, '7701')\n",
      "(0.0001557518587745994, '7710')\n",
      "(0.00011663961160434248, '4201')\n",
      "(7.581249947204142e-05, '8707')\n",
      "(4.824053160829633e-05, '3502')\n",
      "(8.349789468514238e-06, '3501')\n",
      "(4.374460345712231e-06, '5151')\n"
     ]
    }
   ],
   "source": [
    "#Calculate the importence for each varible in our model\n",
    "feat= (rf.feature_importances_).astype('float')\n",
    "allf=(sorted((zip(feat,feature_list)), reverse = True) )\n",
    "#print the list\n",
    "for i in allf:\n",
    "    print(i)"
   ]
  },
  {
   "cell_type": "markdown",
   "metadata": {},
   "source": [
    "As shown above, the soil variables aren't used in many of the trees and might be reducing the accuracy of the model. The following code run the model again without the soil variables in order to show their importance."
   ]
  },
  {
   "cell_type": "code",
   "execution_count": 39,
   "metadata": {},
   "outputs": [
    {
     "name": "stdout",
     "output_type": "stream",
     "text": [
      "Model Without Soil Variables\n",
      "0.9501738322260852\n"
     ]
    }
   ],
   "source": [
    "#Running the model without the soil variables\n",
    "features= df.drop(soil_variables, axis= 1)\n",
    "features= features.drop('Forest_Cover_Type', axis = 1)\n",
    "features = np.array(features)\n",
    "train_features, test_features, train_labels, test_labels = train_test_split(features, labels, test_size = 0.1, random_state = 42)\n",
    "rf = RandomForestClassifier(n_estimators = 30, random_state = 42)\n",
    "rf.fit(train_features, train_labels);\n",
    "predictions = rf.predict(test_features)\n",
    "accuracy = predictions == test_labels\n",
    "print('Model Without Soil Variables')\n",
    "print(accuracy.sum()/len(test_labels))"
   ]
  },
  {
   "cell_type": "markdown",
   "metadata": {},
   "source": [
    "Without the soil variables included in the model the accuracy drops by 0.34%. This shows that while the soild variables aren't hurting the model, they aren't helping the model be much more accurate. If the soil data is hard or costly to aquire it can be excluded from future areas of study."
   ]
  }
 ],
 "metadata": {
  "kernelspec": {
   "display_name": "Python 3",
   "language": "python",
   "name": "python3"
  },
  "language_info": {
   "codemirror_mode": {
    "name": "ipython",
    "version": 3
   },
   "file_extension": ".py",
   "mimetype": "text/x-python",
   "name": "python",
   "nbconvert_exporter": "python",
   "pygments_lexer": "ipython3",
   "version": "3.7.4"
  }
 },
 "nbformat": 4,
 "nbformat_minor": 2
}
